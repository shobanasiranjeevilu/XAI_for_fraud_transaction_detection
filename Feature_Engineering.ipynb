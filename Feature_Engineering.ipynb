{
  "cells": [
    {
      "cell_type": "code",
      "execution_count": 1,
      "metadata": {
        "id": "DYonaosRszJK"
      },
      "outputs": [],
      "source": [
        "import pandas as pd\n"
      ]
    },
    {
      "cell_type": "markdown",
      "metadata": {
        "id": "5h3zJjmdF4Fa"
      },
      "source": [
        "# Feature Engineering"
      ]
    },
    {
      "cell_type": "code",
      "execution_count": null,
      "metadata": {},
      "outputs": [],
      "source": [
        "df = pd.read_csv('/content/fraud_payment_data.csv')"
      ]
    },
    {
      "cell_type": "code",
      "execution_count": null,
      "metadata": {},
      "outputs": [],
      "source": [
        "df_north_america = df[df['Sender_Country'].isin(['USA','CANADA'])]"
      ]
    },
    {
      "cell_type": "code",
      "execution_count": 76,
      "metadata": {
        "id": "Oe6iBsqwP_9B"
      },
      "outputs": [],
      "source": [
        "# considering only north america region\n",
        "# this can be treated as training data and other country can be used for testing\n",
        "\n",
        "df_derived = df_north_america.dropna()"
      ]
    },
    {
      "cell_type": "code",
      "execution_count": 78,
      "metadata": {
        "colab": {
          "base_uri": "https://localhost:8080/"
        },
        "id": "LqvmYBLiSEmy",
        "outputId": "b35d530e-1f08-4c62-bd28-4690f1878924"
      },
      "outputs": [
        {
          "data": {
            "text/plain": [
              "(832797, 15)"
            ]
          },
          "execution_count": 78,
          "metadata": {},
          "output_type": "execute_result"
        }
      ],
      "source": [
        "df_derived.shape"
      ]
    },
    {
      "cell_type": "code",
      "execution_count": 77,
      "metadata": {
        "colab": {
          "base_uri": "https://localhost:8080/"
        },
        "id": "UBFCV5UyR027",
        "outputId": "ca149ebe-d01d-4c3f-c7bb-64567aab917e"
      },
      "outputs": [
        {
          "data": {
            "text/plain": [
              "Time_step           0\n",
              "Transaction_Id      0\n",
              "Sender_Id           0\n",
              "Sender_Account      0\n",
              "Sender_Country      0\n",
              "Sender_Sector       0\n",
              "Sender_lob          0\n",
              "Bene_Id             0\n",
              "Bene_Account        0\n",
              "Bene_Country        0\n",
              "USD_amount          0\n",
              "Label               0\n",
              "Transaction_Type    0\n",
              "date                0\n",
              "year                0\n",
              "dtype: int64"
            ]
          },
          "execution_count": 77,
          "metadata": {},
          "output_type": "execute_result"
        }
      ],
      "source": [
        "df_derived.isnull().sum()"
      ]
    },
    {
      "cell_type": "markdown",
      "metadata": {
        "id": "FijBT-lsSIP1"
      },
      "source": [
        "### Geographical feature"
      ]
    },
    {
      "cell_type": "code",
      "execution_count": 81,
      "metadata": {
        "id": "r-D-2OMjRzT7"
      },
      "outputs": [],
      "source": [
        "df_derived['is_international'] = (df_derived['Sender_Country']!= df_derived['Bene_Country']).astype(int)"
      ]
    },
    {
      "cell_type": "markdown",
      "metadata": {
        "id": "cmC7k78XSPuS"
      },
      "source": [
        "### Timing based features"
      ]
    },
    {
      "cell_type": "code",
      "execution_count": 82,
      "metadata": {
        "id": "XvLFL4YEF9E_"
      },
      "outputs": [],
      "source": [
        "df_derived['hour_of_transaction'] = (df_derived['Time_step'].dt.hour)\n",
        "\n",
        "df_derived = df_derived.sort_values(by=['Sender_Id', 'Time_step'])\n",
        "df_derived['time_since_last_transaction_sender'] = df_derived.groupby('Sender_Id')['Time_step'].diff()\n",
        "df_derived['time_since_last_transaction_sender'] = df_derived['time_since_last_transaction_sender'].fillna(pd.Timedelta(seconds=0))\n",
        "df_derived['time_since_last_transaction_sender'] = df_derived['time_since_last_transaction_sender'].dt.total_seconds() / 3600  # for hours\n",
        "\n",
        "\n",
        "df_derived = df_derived.sort_values(by=['Bene_Id', 'Time_step'])\n",
        "df_derived['time_since_last_transaction_bene'] = df_derived.groupby('Bene_Id')['Time_step'].diff()\n",
        "df_derived['time_since_last_transaction_bene'] = df_derived['time_since_last_transaction_bene'].fillna(pd.Timedelta(seconds=0))\n",
        "df_derived['time_since_last_transaction_bene'] = df_derived['time_since_last_transaction_bene'].dt.total_seconds() / 3600  # for hours\n"
      ]
    },
    {
      "cell_type": "markdown",
      "metadata": {
        "id": "Tkvsjm67Scd-"
      },
      "source": [
        "### Sender - Beneficiery based features"
      ]
    },
    {
      "cell_type": "code",
      "execution_count": 83,
      "metadata": {
        "id": "bCFv4a7jLFjy"
      },
      "outputs": [],
      "source": [
        "df_derived['sender_beneficiary_pair'] = df_derived['Sender_Id'] + '-' + df_derived['Bene_Id']\n",
        "\n",
        "df_derived['new_bene_for_sender'] = ~df_derived.duplicated(subset=['sender_beneficiary_pair'], keep='first')\n",
        "df_derived['new_bene_for_sender'] = df_derived['new_bene_for_sender'].astype(int)\n",
        "\n",
        "df_derived.drop(['sender_beneficiary_pair'],axis=1, inplace=True)"
      ]
    },
    {
      "cell_type": "code",
      "execution_count": 84,
      "metadata": {
        "id": "aPCygdmBSujf"
      },
      "outputs": [],
      "source": [
        "unique_beneficiary_counts = df_derived.groupby('Sender_Id')['Bene_Id'].nunique()\n",
        "\n",
        "\n",
        "beneficiary_count_df = unique_beneficiary_counts.reset_index(name='sender_bene_unique_count')\n",
        "\n",
        "df_derived = df_derived.merge(beneficiary_count_df, on='Sender_Id', how='left')\n"
      ]
    },
    {
      "cell_type": "markdown",
      "metadata": {
        "id": "G7Rzx1QrSmd1"
      },
      "source": [
        "### Amount based features"
      ]
    },
    {
      "cell_type": "code",
      "execution_count": 85,
      "metadata": {
        "id": "_O1FbZkPLjds"
      },
      "outputs": [],
      "source": [
        "average_transaction_amount = df_derived.groupby('Sender_Id')['USD_amount'].mean()\n",
        "\n",
        "df_derived['average_transaction_amount'] = df_derived.groupby('Sender_Id')['USD_amount'].transform('mean')\n",
        "\n",
        "df_derived['transaction_amount_deviation_sender'] = df_derived['USD_amount'] - df_derived['average_transaction_amount']\n",
        "\n",
        "df_derived = df_derived.drop(columns=['average_transaction_amount'],axis=1)"
      ]
    },
    {
      "cell_type": "code",
      "execution_count": 86,
      "metadata": {
        "id": "i7Jq51u9JOzC"
      },
      "outputs": [],
      "source": [
        "average_transaction_amount = df_derived.groupby('Bene_Id')['USD_amount'].mean()\n",
        "\n",
        "df_derived['average_transaction_amount'] = df_derived.groupby('Bene_Id')['USD_amount'].transform('mean')\n",
        "\n",
        "df_derived['transaction_amount_deviation_bene'] = df_derived['USD_amount'] - df_derived['average_transaction_amount']\n",
        "\n",
        "df_derived = df_derived.drop(columns=['average_transaction_amount'],axis=1)"
      ]
    },
    {
      "cell_type": "code",
      "execution_count": 87,
      "metadata": {
        "id": "I6d_BEOgMgA_"
      },
      "outputs": [],
      "source": [
        "df_derived['is_round_amount'] = (df_derived['USD_amount'] % 100 == 0).astype(int)\n"
      ]
    },
    {
      "cell_type": "code",
      "execution_count": 88,
      "metadata": {
        "id": "vzlCnu6QRETI"
      },
      "outputs": [],
      "source": [
        "average_sender_transaction = df_derived.groupby('Sender_Id')['USD_amount'].mean().reset_index()\n",
        "average_sender_transaction.rename(columns={'USD_amount': 'average_sender_amount'}, inplace=True)\n",
        "\n",
        "\n",
        "average_bene_transaction = df.groupby('Bene_Id')['USD_amount'].mean().reset_index()\n",
        "average_bene_transaction.rename(columns={'USD_amount': 'average_bene_amount'}, inplace=True)\n",
        "\n",
        "df_derived = df_derived.merge(average_sender_transaction, on='Sender_Id', how='left')\n",
        "df_derived = df_derived.merge(average_bene_transaction, on='Bene_Id', how='left')\n"
      ]
    },
    {
      "cell_type": "code",
      "execution_count": 90,
      "metadata": {
        "id": "4s0mGefXPIp8"
      },
      "outputs": [],
      "source": [
        "df_derived  = df_derived[['is_international','hour_of_transaction','time_since_last_transaction_sender','time_since_last_transaction_bene','new_bene_for_sender','sender_bene_unique_count','transaction_amount_deviation_sender','transaction_amount_deviation_bene','is_round_amount','average_sender_amount','average_bene_amount','Label']]"
      ]
    },
    {
      "cell_type": "code",
      "execution_count": 91,
      "metadata": {
        "colab": {
          "base_uri": "https://localhost:8080/",
          "height": 444
        },
        "id": "I-EmJxqfTRYN",
        "outputId": "9a8989be-f127-497c-e0e4-621201c5edfd"
      },
      "outputs": [
        {
          "data": {
            "text/html": [
              "\n",
              "  <div id=\"df-5a2fcce1-aed5-4648-a0ff-5d6225a53b0c\" class=\"colab-df-container\">\n",
              "    <div>\n",
              "<style scoped>\n",
              "    .dataframe tbody tr th:only-of-type {\n",
              "        vertical-align: middle;\n",
              "    }\n",
              "\n",
              "    .dataframe tbody tr th {\n",
              "        vertical-align: top;\n",
              "    }\n",
              "\n",
              "    .dataframe thead th {\n",
              "        text-align: right;\n",
              "    }\n",
              "</style>\n",
              "<table border=\"1\" class=\"dataframe\">\n",
              "  <thead>\n",
              "    <tr style=\"text-align: right;\">\n",
              "      <th></th>\n",
              "      <th>is_international</th>\n",
              "      <th>hour_of_transaction</th>\n",
              "      <th>time_since_last_transaction_sender</th>\n",
              "      <th>time_since_last_transaction_bene</th>\n",
              "      <th>new_bene_for_sender</th>\n",
              "      <th>sender_bene_unique_count</th>\n",
              "      <th>transaction_amount_deviation_sender</th>\n",
              "      <th>transaction_amount_deviation_bene</th>\n",
              "      <th>is_round_amount</th>\n",
              "      <th>average_sender_amount</th>\n",
              "      <th>average_bene_amount</th>\n",
              "      <th>Label</th>\n",
              "    </tr>\n",
              "  </thead>\n",
              "  <tbody>\n",
              "    <tr>\n",
              "      <th>0</th>\n",
              "      <td>0</td>\n",
              "      <td>8</td>\n",
              "      <td>12.000000</td>\n",
              "      <td>0.000000</td>\n",
              "      <td>1</td>\n",
              "      <td>36</td>\n",
              "      <td>-233.525769</td>\n",
              "      <td>-423.2750</td>\n",
              "      <td>0</td>\n",
              "      <td>327.705769</td>\n",
              "      <td>517.4550</td>\n",
              "      <td>0</td>\n",
              "    </tr>\n",
              "    <tr>\n",
              "      <th>1</th>\n",
              "      <td>0</td>\n",
              "      <td>9</td>\n",
              "      <td>12.000000</td>\n",
              "      <td>25.333333</td>\n",
              "      <td>0</td>\n",
              "      <td>36</td>\n",
              "      <td>214.064231</td>\n",
              "      <td>24.3150</td>\n",
              "      <td>0</td>\n",
              "      <td>327.705769</td>\n",
              "      <td>517.4550</td>\n",
              "      <td>0</td>\n",
              "    </tr>\n",
              "    <tr>\n",
              "      <th>2</th>\n",
              "      <td>0</td>\n",
              "      <td>22</td>\n",
              "      <td>12.333333</td>\n",
              "      <td>12.333333</td>\n",
              "      <td>0</td>\n",
              "      <td>36</td>\n",
              "      <td>259.404231</td>\n",
              "      <td>69.6550</td>\n",
              "      <td>0</td>\n",
              "      <td>327.705769</td>\n",
              "      <td>517.4550</td>\n",
              "      <td>0</td>\n",
              "    </tr>\n",
              "    <tr>\n",
              "      <th>3</th>\n",
              "      <td>0</td>\n",
              "      <td>11</td>\n",
              "      <td>12.000000</td>\n",
              "      <td>133.166667</td>\n",
              "      <td>0</td>\n",
              "      <td>36</td>\n",
              "      <td>519.054231</td>\n",
              "      <td>329.3050</td>\n",
              "      <td>0</td>\n",
              "      <td>327.705769</td>\n",
              "      <td>517.4550</td>\n",
              "      <td>0</td>\n",
              "    </tr>\n",
              "    <tr>\n",
              "      <th>4</th>\n",
              "      <td>1</td>\n",
              "      <td>6</td>\n",
              "      <td>12.000000</td>\n",
              "      <td>0.000000</td>\n",
              "      <td>1</td>\n",
              "      <td>35</td>\n",
              "      <td>-335.343945</td>\n",
              "      <td>0.0000</td>\n",
              "      <td>0</td>\n",
              "      <td>368.843945</td>\n",
              "      <td>33.5000</td>\n",
              "      <td>0</td>\n",
              "    </tr>\n",
              "    <tr>\n",
              "      <th>...</th>\n",
              "      <td>...</td>\n",
              "      <td>...</td>\n",
              "      <td>...</td>\n",
              "      <td>...</td>\n",
              "      <td>...</td>\n",
              "      <td>...</td>\n",
              "      <td>...</td>\n",
              "      <td>...</td>\n",
              "      <td>...</td>\n",
              "      <td>...</td>\n",
              "      <td>...</td>\n",
              "      <td>...</td>\n",
              "    </tr>\n",
              "    <tr>\n",
              "      <th>832792</th>\n",
              "      <td>0</td>\n",
              "      <td>8</td>\n",
              "      <td>0.166667</td>\n",
              "      <td>109.333333</td>\n",
              "      <td>0</td>\n",
              "      <td>35</td>\n",
              "      <td>536.896055</td>\n",
              "      <td>338.7700</td>\n",
              "      <td>0</td>\n",
              "      <td>368.843945</td>\n",
              "      <td>566.9700</td>\n",
              "      <td>1</td>\n",
              "    </tr>\n",
              "    <tr>\n",
              "      <th>832793</th>\n",
              "      <td>1</td>\n",
              "      <td>1</td>\n",
              "      <td>0.000000</td>\n",
              "      <td>0.000000</td>\n",
              "      <td>1</td>\n",
              "      <td>35</td>\n",
              "      <td>146.266055</td>\n",
              "      <td>131.9275</td>\n",
              "      <td>0</td>\n",
              "      <td>368.843945</td>\n",
              "      <td>383.1825</td>\n",
              "      <td>0</td>\n",
              "    </tr>\n",
              "    <tr>\n",
              "      <th>832794</th>\n",
              "      <td>1</td>\n",
              "      <td>16</td>\n",
              "      <td>0.333333</td>\n",
              "      <td>134.166667</td>\n",
              "      <td>0</td>\n",
              "      <td>35</td>\n",
              "      <td>-230.363945</td>\n",
              "      <td>-244.7025</td>\n",
              "      <td>0</td>\n",
              "      <td>368.843945</td>\n",
              "      <td>383.1825</td>\n",
              "      <td>0</td>\n",
              "    </tr>\n",
              "    <tr>\n",
              "      <th>832795</th>\n",
              "      <td>1</td>\n",
              "      <td>6</td>\n",
              "      <td>12.000000</td>\n",
              "      <td>182.166667</td>\n",
              "      <td>0</td>\n",
              "      <td>35</td>\n",
              "      <td>-138.813945</td>\n",
              "      <td>-153.1525</td>\n",
              "      <td>0</td>\n",
              "      <td>368.843945</td>\n",
              "      <td>383.1825</td>\n",
              "      <td>0</td>\n",
              "    </tr>\n",
              "    <tr>\n",
              "      <th>832796</th>\n",
              "      <td>1</td>\n",
              "      <td>10</td>\n",
              "      <td>36.166667</td>\n",
              "      <td>364.166667</td>\n",
              "      <td>0</td>\n",
              "      <td>35</td>\n",
              "      <td>280.266055</td>\n",
              "      <td>265.9275</td>\n",
              "      <td>0</td>\n",
              "      <td>368.843945</td>\n",
              "      <td>383.1825</td>\n",
              "      <td>0</td>\n",
              "    </tr>\n",
              "  </tbody>\n",
              "</table>\n",
              "<p>832797 rows × 12 columns</p>\n",
              "</div>\n",
              "    <div class=\"colab-df-buttons\">\n",
              "\n",
              "  <div class=\"colab-df-container\">\n",
              "    <button class=\"colab-df-convert\" onclick=\"convertToInteractive('df-5a2fcce1-aed5-4648-a0ff-5d6225a53b0c')\"\n",
              "            title=\"Convert this dataframe to an interactive table.\"\n",
              "            style=\"display:none;\">\n",
              "\n",
              "  <svg xmlns=\"http://www.w3.org/2000/svg\" height=\"24px\" viewBox=\"0 -960 960 960\">\n",
              "    <path d=\"M120-120v-720h720v720H120Zm60-500h600v-160H180v160Zm220 220h160v-160H400v160Zm0 220h160v-160H400v160ZM180-400h160v-160H180v160Zm440 0h160v-160H620v160ZM180-180h160v-160H180v160Zm440 0h160v-160H620v160Z\"/>\n",
              "  </svg>\n",
              "    </button>\n",
              "\n",
              "  <style>\n",
              "    .colab-df-container {\n",
              "      display:flex;\n",
              "      gap: 12px;\n",
              "    }\n",
              "\n",
              "    .colab-df-convert {\n",
              "      background-color: #E8F0FE;\n",
              "      border: none;\n",
              "      border-radius: 50%;\n",
              "      cursor: pointer;\n",
              "      display: none;\n",
              "      fill: #1967D2;\n",
              "      height: 32px;\n",
              "      padding: 0 0 0 0;\n",
              "      width: 32px;\n",
              "    }\n",
              "\n",
              "    .colab-df-convert:hover {\n",
              "      background-color: #E2EBFA;\n",
              "      box-shadow: 0px 1px 2px rgba(60, 64, 67, 0.3), 0px 1px 3px 1px rgba(60, 64, 67, 0.15);\n",
              "      fill: #174EA6;\n",
              "    }\n",
              "\n",
              "    .colab-df-buttons div {\n",
              "      margin-bottom: 4px;\n",
              "    }\n",
              "\n",
              "    [theme=dark] .colab-df-convert {\n",
              "      background-color: #3B4455;\n",
              "      fill: #D2E3FC;\n",
              "    }\n",
              "\n",
              "    [theme=dark] .colab-df-convert:hover {\n",
              "      background-color: #434B5C;\n",
              "      box-shadow: 0px 1px 3px 1px rgba(0, 0, 0, 0.15);\n",
              "      filter: drop-shadow(0px 1px 2px rgba(0, 0, 0, 0.3));\n",
              "      fill: #FFFFFF;\n",
              "    }\n",
              "  </style>\n",
              "\n",
              "    <script>\n",
              "      const buttonEl =\n",
              "        document.querySelector('#df-5a2fcce1-aed5-4648-a0ff-5d6225a53b0c button.colab-df-convert');\n",
              "      buttonEl.style.display =\n",
              "        google.colab.kernel.accessAllowed ? 'block' : 'none';\n",
              "\n",
              "      async function convertToInteractive(key) {\n",
              "        const element = document.querySelector('#df-5a2fcce1-aed5-4648-a0ff-5d6225a53b0c');\n",
              "        const dataTable =\n",
              "          await google.colab.kernel.invokeFunction('convertToInteractive',\n",
              "                                                    [key], {});\n",
              "        if (!dataTable) return;\n",
              "\n",
              "        const docLinkHtml = 'Like what you see? Visit the ' +\n",
              "          '<a target=\"_blank\" href=https://colab.research.google.com/notebooks/data_table.ipynb>data table notebook</a>'\n",
              "          + ' to learn more about interactive tables.';\n",
              "        element.innerHTML = '';\n",
              "        dataTable['output_type'] = 'display_data';\n",
              "        await google.colab.output.renderOutput(dataTable, element);\n",
              "        const docLink = document.createElement('div');\n",
              "        docLink.innerHTML = docLinkHtml;\n",
              "        element.appendChild(docLink);\n",
              "      }\n",
              "    </script>\n",
              "  </div>\n",
              "\n",
              "\n",
              "<div id=\"df-e6ba3be9-9552-442b-b53f-cc7dd20e8bb8\">\n",
              "  <button class=\"colab-df-quickchart\" onclick=\"quickchart('df-e6ba3be9-9552-442b-b53f-cc7dd20e8bb8')\"\n",
              "            title=\"Suggest charts.\"\n",
              "            style=\"display:none;\">\n",
              "\n",
              "<svg xmlns=\"http://www.w3.org/2000/svg\" height=\"24px\"viewBox=\"0 0 24 24\"\n",
              "     width=\"24px\">\n",
              "    <g>\n",
              "        <path d=\"M19 3H5c-1.1 0-2 .9-2 2v14c0 1.1.9 2 2 2h14c1.1 0 2-.9 2-2V5c0-1.1-.9-2-2-2zM9 17H7v-7h2v7zm4 0h-2V7h2v10zm4 0h-2v-4h2v4z\"/>\n",
              "    </g>\n",
              "</svg>\n",
              "  </button>\n",
              "\n",
              "<style>\n",
              "  .colab-df-quickchart {\n",
              "      --bg-color: #E8F0FE;\n",
              "      --fill-color: #1967D2;\n",
              "      --hover-bg-color: #E2EBFA;\n",
              "      --hover-fill-color: #174EA6;\n",
              "      --disabled-fill-color: #AAA;\n",
              "      --disabled-bg-color: #DDD;\n",
              "  }\n",
              "\n",
              "  [theme=dark] .colab-df-quickchart {\n",
              "      --bg-color: #3B4455;\n",
              "      --fill-color: #D2E3FC;\n",
              "      --hover-bg-color: #434B5C;\n",
              "      --hover-fill-color: #FFFFFF;\n",
              "      --disabled-bg-color: #3B4455;\n",
              "      --disabled-fill-color: #666;\n",
              "  }\n",
              "\n",
              "  .colab-df-quickchart {\n",
              "    background-color: var(--bg-color);\n",
              "    border: none;\n",
              "    border-radius: 50%;\n",
              "    cursor: pointer;\n",
              "    display: none;\n",
              "    fill: var(--fill-color);\n",
              "    height: 32px;\n",
              "    padding: 0;\n",
              "    width: 32px;\n",
              "  }\n",
              "\n",
              "  .colab-df-quickchart:hover {\n",
              "    background-color: var(--hover-bg-color);\n",
              "    box-shadow: 0 1px 2px rgba(60, 64, 67, 0.3), 0 1px 3px 1px rgba(60, 64, 67, 0.15);\n",
              "    fill: var(--button-hover-fill-color);\n",
              "  }\n",
              "\n",
              "  .colab-df-quickchart-complete:disabled,\n",
              "  .colab-df-quickchart-complete:disabled:hover {\n",
              "    background-color: var(--disabled-bg-color);\n",
              "    fill: var(--disabled-fill-color);\n",
              "    box-shadow: none;\n",
              "  }\n",
              "\n",
              "  .colab-df-spinner {\n",
              "    border: 2px solid var(--fill-color);\n",
              "    border-color: transparent;\n",
              "    border-bottom-color: var(--fill-color);\n",
              "    animation:\n",
              "      spin 1s steps(1) infinite;\n",
              "  }\n",
              "\n",
              "  @keyframes spin {\n",
              "    0% {\n",
              "      border-color: transparent;\n",
              "      border-bottom-color: var(--fill-color);\n",
              "      border-left-color: var(--fill-color);\n",
              "    }\n",
              "    20% {\n",
              "      border-color: transparent;\n",
              "      border-left-color: var(--fill-color);\n",
              "      border-top-color: var(--fill-color);\n",
              "    }\n",
              "    30% {\n",
              "      border-color: transparent;\n",
              "      border-left-color: var(--fill-color);\n",
              "      border-top-color: var(--fill-color);\n",
              "      border-right-color: var(--fill-color);\n",
              "    }\n",
              "    40% {\n",
              "      border-color: transparent;\n",
              "      border-right-color: var(--fill-color);\n",
              "      border-top-color: var(--fill-color);\n",
              "    }\n",
              "    60% {\n",
              "      border-color: transparent;\n",
              "      border-right-color: var(--fill-color);\n",
              "    }\n",
              "    80% {\n",
              "      border-color: transparent;\n",
              "      border-right-color: var(--fill-color);\n",
              "      border-bottom-color: var(--fill-color);\n",
              "    }\n",
              "    90% {\n",
              "      border-color: transparent;\n",
              "      border-bottom-color: var(--fill-color);\n",
              "    }\n",
              "  }\n",
              "</style>\n",
              "\n",
              "  <script>\n",
              "    async function quickchart(key) {\n",
              "      const quickchartButtonEl =\n",
              "        document.querySelector('#' + key + ' button');\n",
              "      quickchartButtonEl.disabled = true;  // To prevent multiple clicks.\n",
              "      quickchartButtonEl.classList.add('colab-df-spinner');\n",
              "      try {\n",
              "        const charts = await google.colab.kernel.invokeFunction(\n",
              "            'suggestCharts', [key], {});\n",
              "      } catch (error) {\n",
              "        console.error('Error during call to suggestCharts:', error);\n",
              "      }\n",
              "      quickchartButtonEl.classList.remove('colab-df-spinner');\n",
              "      quickchartButtonEl.classList.add('colab-df-quickchart-complete');\n",
              "    }\n",
              "    (() => {\n",
              "      let quickchartButtonEl =\n",
              "        document.querySelector('#df-e6ba3be9-9552-442b-b53f-cc7dd20e8bb8 button');\n",
              "      quickchartButtonEl.style.display =\n",
              "        google.colab.kernel.accessAllowed ? 'block' : 'none';\n",
              "    })();\n",
              "  </script>\n",
              "</div>\n",
              "    </div>\n",
              "  </div>\n"
            ],
            "text/plain": [
              "        is_international  hour_of_transaction  \\\n",
              "0                      0                    8   \n",
              "1                      0                    9   \n",
              "2                      0                   22   \n",
              "3                      0                   11   \n",
              "4                      1                    6   \n",
              "...                  ...                  ...   \n",
              "832792                 0                    8   \n",
              "832793                 1                    1   \n",
              "832794                 1                   16   \n",
              "832795                 1                    6   \n",
              "832796                 1                   10   \n",
              "\n",
              "        time_since_last_transaction_sender  time_since_last_transaction_bene  \\\n",
              "0                                12.000000                          0.000000   \n",
              "1                                12.000000                         25.333333   \n",
              "2                                12.333333                         12.333333   \n",
              "3                                12.000000                        133.166667   \n",
              "4                                12.000000                          0.000000   \n",
              "...                                    ...                               ...   \n",
              "832792                            0.166667                        109.333333   \n",
              "832793                            0.000000                          0.000000   \n",
              "832794                            0.333333                        134.166667   \n",
              "832795                           12.000000                        182.166667   \n",
              "832796                           36.166667                        364.166667   \n",
              "\n",
              "        new_bene_for_sender  sender_bene_unique_count  \\\n",
              "0                         1                        36   \n",
              "1                         0                        36   \n",
              "2                         0                        36   \n",
              "3                         0                        36   \n",
              "4                         1                        35   \n",
              "...                     ...                       ...   \n",
              "832792                    0                        35   \n",
              "832793                    1                        35   \n",
              "832794                    0                        35   \n",
              "832795                    0                        35   \n",
              "832796                    0                        35   \n",
              "\n",
              "        transaction_amount_deviation_sender  \\\n",
              "0                               -233.525769   \n",
              "1                                214.064231   \n",
              "2                                259.404231   \n",
              "3                                519.054231   \n",
              "4                               -335.343945   \n",
              "...                                     ...   \n",
              "832792                           536.896055   \n",
              "832793                           146.266055   \n",
              "832794                          -230.363945   \n",
              "832795                          -138.813945   \n",
              "832796                           280.266055   \n",
              "\n",
              "        transaction_amount_deviation_bene  is_round_amount  \\\n",
              "0                               -423.2750                0   \n",
              "1                                 24.3150                0   \n",
              "2                                 69.6550                0   \n",
              "3                                329.3050                0   \n",
              "4                                  0.0000                0   \n",
              "...                                   ...              ...   \n",
              "832792                           338.7700                0   \n",
              "832793                           131.9275                0   \n",
              "832794                          -244.7025                0   \n",
              "832795                          -153.1525                0   \n",
              "832796                           265.9275                0   \n",
              "\n",
              "        average_sender_amount  average_bene_amount  Label  \n",
              "0                  327.705769             517.4550      0  \n",
              "1                  327.705769             517.4550      0  \n",
              "2                  327.705769             517.4550      0  \n",
              "3                  327.705769             517.4550      0  \n",
              "4                  368.843945              33.5000      0  \n",
              "...                       ...                  ...    ...  \n",
              "832792             368.843945             566.9700      1  \n",
              "832793             368.843945             383.1825      0  \n",
              "832794             368.843945             383.1825      0  \n",
              "832795             368.843945             383.1825      0  \n",
              "832796             368.843945             383.1825      0  \n",
              "\n",
              "[832797 rows x 12 columns]"
            ]
          },
          "execution_count": 91,
          "metadata": {},
          "output_type": "execute_result"
        }
      ],
      "source": [
        "df_derived"
      ]
    },
    {
      "cell_type": "code",
      "execution_count": null,
      "metadata": {
        "id": "NI0SLilVThDG"
      },
      "outputs": [],
      "source": []
    }
  ],
  "metadata": {
    "colab": {
      "provenance": []
    },
    "kernelspec": {
      "display_name": "Python 3",
      "name": "python3"
    },
    "language_info": {
      "name": "python"
    }
  },
  "nbformat": 4,
  "nbformat_minor": 0
}
